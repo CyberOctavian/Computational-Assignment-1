{
 "cells": [
  {
   "cell_type": "markdown",
   "id": "1072d97d-89a9-47e9-b9c8-46f613b7d32e",
   "metadata": {},
   "source": [
    "MODULE"
   ]
  },
  {
   "cell_type": "code",
   "execution_count": 2,
   "id": "5ff67334-8372-477d-8ccb-1236d696cd06",
   "metadata": {},
   "outputs": [],
   "source": [
    "#import your module\n",
    "import ModuleTest"
   ]
  },
  {
   "cell_type": "code",
   "execution_count": 3,
   "id": "f7237506-147b-4f90-9d82-61675103cd86",
   "metadata": {},
   "outputs": [
    {
     "name": "stdout",
     "output_type": "stream",
     "text": [
      "5\n"
     ]
    }
   ],
   "source": [
    "#use functions defined within the module\n",
    "print(ModuleTest.subtract(7, 2))"
   ]
  },
  {
   "cell_type": "markdown",
   "id": "b4b1f97f-72d0-4190-92fc-14a404de41bc",
   "metadata": {},
   "source": [
    "Getting started with Numpy"
   ]
  },
  {
   "cell_type": "code",
   "execution_count": 5,
   "id": "1a44fcb4-63eb-4878-8c16-5417e8da7950",
   "metadata": {},
   "outputs": [],
   "source": [
    "# Numpy can be imported as np for ease of use:\n",
    "import numpy as np"
   ]
  },
  {
   "cell_type": "markdown",
   "id": "465c05ce-d3f8-46db-8e92-ffb4232888d7",
   "metadata": {},
   "source": [
    "Arrays and Basic Functions"
   ]
  },
  {
   "cell_type": "code",
   "execution_count": 7,
   "id": "ea70eb7b-1acc-4795-bbb0-00fc03929740",
   "metadata": {},
   "outputs": [
    {
     "data": {
      "text/plain": [
       "array([ 1,  2,  3,  4,  5,  6,  7,  8,  9, 10])"
      ]
     },
     "execution_count": 7,
     "metadata": {},
     "output_type": "execute_result"
    }
   ],
   "source": [
    "# Simple arrays can be created and assigned like so:\n",
    "c = np.array([1, 2, 3, 4, 5, 6, 7, 8, 9, 10])\n",
    "c"
   ]
  },
  {
   "cell_type": "code",
   "execution_count": 8,
   "id": "5475c04b-3c4d-476a-ab08-a37478de779f",
   "metadata": {},
   "outputs": [
    {
     "data": {
      "text/plain": [
       "array([ 8,  9, 10])"
      ]
     },
     "execution_count": 8,
     "metadata": {},
     "output_type": "execute_result"
    }
   ],
   "source": [
    "# Values above or below a given value can be sorted use ':'\n",
    "c[7:]"
   ]
  },
  {
   "cell_type": "code",
   "execution_count": 9,
   "id": "c392413f-b04a-4d83-be50-9cf5c717b14a",
   "metadata": {},
   "outputs": [
    {
     "data": {
      "text/plain": [
       "array([ 4,  8, 12, 16, 20, 24, 28, 32, 36])"
      ]
     },
     "execution_count": 9,
     "metadata": {},
     "output_type": "execute_result"
    }
   ],
   "source": [
    "# Data for arrays can also be generated using the arrange function\n",
    "e = np.arange(4, 40, 4)\n",
    "e"
   ]
  },
  {
   "cell_type": "code",
   "execution_count": 10,
   "id": "0aa7b6a0-a4fb-4998-bf6e-910702905bb5",
   "metadata": {},
   "outputs": [
    {
     "data": {
      "text/plain": [
       "array([  4,  12,  24,  40,  60,  84, 112, 144, 180])"
      ]
     },
     "execution_count": 10,
     "metadata": {},
     "output_type": "execute_result"
    }
   ],
   "source": [
    "# Cumulative Sum and Standard Deviation can easily be calculated using std and cumsum\n",
    "e.cumsum()"
   ]
  },
  {
   "cell_type": "code",
   "execution_count": 11,
   "id": "a0701cf9-1125-4acf-943a-e3f8bc589106",
   "metadata": {},
   "outputs": [
    {
     "data": {
      "text/plain": [
       "10.327955589886445"
      ]
     },
     "execution_count": 11,
     "metadata": {},
     "output_type": "execute_result"
    }
   ],
   "source": [
    "e.std()"
   ]
  },
  {
   "cell_type": "markdown",
   "id": "5467a9b6-d6b1-4070-b8dd-24f3104caecb",
   "metadata": {},
   "source": [
    "Vectorization allows mathematical functions to be applied arrays"
   ]
  },
  {
   "cell_type": "code",
   "execution_count": 13,
   "id": "4577a0d5-edf6-4782-a959-41830061933b",
   "metadata": {},
   "outputs": [
    {
     "data": {
      "text/plain": [
       "array([ 16,  32,  48,  64,  80,  96, 112, 128, 144])"
      ]
     },
     "execution_count": 13,
     "metadata": {},
     "output_type": "execute_result"
    }
   ],
   "source": [
    "# Multiplication\n",
    "e * 4"
   ]
  },
  {
   "cell_type": "code",
   "execution_count": 14,
   "id": "bb9ac050-a91a-41dd-b3bb-4ee9557be245",
   "metadata": {},
   "outputs": [
    {
     "data": {
      "text/plain": [
       "array([  16,   64,  144,  256,  400,  576,  784, 1024, 1296])"
      ]
     },
     "execution_count": 14,
     "metadata": {},
     "output_type": "execute_result"
    }
   ],
   "source": [
    "# Power\n",
    "e**2"
   ]
  },
  {
   "cell_type": "code",
   "execution_count": 15,
   "id": "89603ca2-15fe-4d2f-ba46-ff46110f3a83",
   "metadata": {},
   "outputs": [
    {
     "data": {
      "text/plain": [
       "array([2.        , 2.82842712, 3.46410162, 4.        , 4.47213595,\n",
       "       4.89897949, 5.29150262, 5.65685425, 6.        ])"
      ]
     },
     "execution_count": 15,
     "metadata": {},
     "output_type": "execute_result"
    }
   ],
   "source": [
    "# Square root\n",
    "np.sqrt(e)"
   ]
  },
  {
   "cell_type": "markdown",
   "id": "9d051cc2-499b-4e9a-bc2c-dff4c19f833a",
   "metadata": {},
   "source": [
    "Resizing and Reshaping arrays with rows and columns"
   ]
  },
  {
   "cell_type": "code",
   "execution_count": 17,
   "id": "d8c3444a-be12-4ee5-aef3-621e39555341",
   "metadata": {},
   "outputs": [
    {
     "data": {
      "text/plain": [
       "array([[  4,   8,  12,  16,  20,  24,  28,  32,  36],\n",
       "       [ 16,  32,  48,  64,  80,  96, 112, 128, 144]])"
      ]
     },
     "execution_count": 17,
     "metadata": {},
     "output_type": "execute_result"
    }
   ],
   "source": [
    "f = np.array([e, e * 4])\n",
    "f"
   ]
  },
  {
   "cell_type": "code",
   "execution_count": 18,
   "id": "6d07db23-b005-4052-a30a-70586e4ab8eb",
   "metadata": {},
   "outputs": [
    {
     "data": {
      "text/plain": [
       "array([[ 4,  8, 12],\n",
       "       [16, 20, 24],\n",
       "       [28, 32, 36]])"
      ]
     },
     "execution_count": 18,
     "metadata": {},
     "output_type": "execute_result"
    }
   ],
   "source": [
    "# Using the reshape function\n",
    "f = e.reshape(3, 3)\n",
    "f"
   ]
  },
  {
   "cell_type": "code",
   "execution_count": 19,
   "id": "de74cfd0-7669-4d4c-acc2-f5b62ccc4fc5",
   "metadata": {},
   "outputs": [
    {
     "data": {
      "text/plain": [
       "array([[ 4],\n",
       "       [ 8],\n",
       "       [12]])"
      ]
     },
     "execution_count": 19,
     "metadata": {},
     "output_type": "execute_result"
    }
   ],
   "source": [
    "# Columns and rows can be extracted using the resize Function\n",
    "np.resize(f, (3, 1))"
   ]
  },
  {
   "cell_type": "markdown",
   "id": "e38aabaa-2509-4bf9-97f0-0165977d1bc7",
   "metadata": {},
   "source": [
    "Boolean Arrays are useful for filtering"
   ]
  },
  {
   "cell_type": "code",
   "execution_count": 21,
   "id": "3bd8d880-49c1-476b-ad06-29c9bacc6ae6",
   "metadata": {},
   "outputs": [
    {
     "data": {
      "text/plain": [
       "array([[False, False,  True],\n",
       "       [ True,  True,  True],\n",
       "       [ True,  True,  True]])"
      ]
     },
     "execution_count": 21,
     "metadata": {},
     "output_type": "execute_result"
    }
   ],
   "source": [
    "f > 10"
   ]
  },
  {
   "cell_type": "markdown",
   "id": "702bf022-65c4-4593-8117-4afd436188e3",
   "metadata": {},
   "source": [
    "Getting started with Pandas"
   ]
  },
  {
   "cell_type": "code",
   "execution_count": 23,
   "id": "4abb6a4a-690b-44cf-bf39-a6700c054f80",
   "metadata": {},
   "outputs": [
    {
     "data": {
      "text/html": [
       "<div>\n",
       "<style scoped>\n",
       "    .dataframe tbody tr th:only-of-type {\n",
       "        vertical-align: middle;\n",
       "    }\n",
       "\n",
       "    .dataframe tbody tr th {\n",
       "        vertical-align: top;\n",
       "    }\n",
       "\n",
       "    .dataframe thead th {\n",
       "        text-align: right;\n",
       "    }\n",
       "</style>\n",
       "<table border=\"1\" class=\"dataframe\">\n",
       "  <thead>\n",
       "    <tr style=\"text-align: right;\">\n",
       "      <th></th>\n",
       "      <th>Test</th>\n",
       "    </tr>\n",
       "  </thead>\n",
       "  <tbody>\n",
       "    <tr>\n",
       "      <th>a</th>\n",
       "      <td>5</td>\n",
       "    </tr>\n",
       "    <tr>\n",
       "      <th>b</th>\n",
       "      <td>10</td>\n",
       "    </tr>\n",
       "    <tr>\n",
       "      <th>c</th>\n",
       "      <td>15</td>\n",
       "    </tr>\n",
       "    <tr>\n",
       "      <th>d</th>\n",
       "      <td>20</td>\n",
       "    </tr>\n",
       "  </tbody>\n",
       "</table>\n",
       "</div>"
      ],
      "text/plain": [
       "   Test\n",
       "a     5\n",
       "b    10\n",
       "c    15\n",
       "d    20"
      ]
     },
     "execution_count": 23,
     "metadata": {},
     "output_type": "execute_result"
    }
   ],
   "source": [
    "import pandas as pd\n",
    "# Creating a dataframe using pd.Dataframe with labels\n",
    "df = pd.DataFrame([5, 10, 15, 20],\n",
    "                  columns=['Test'],\n",
    "                  index=['a', 'b', 'c', 'd'])\n",
    "df"
   ]
  },
  {
   "cell_type": "markdown",
   "id": "26a325a2-b47e-4f48-87c2-919125d0826b",
   "metadata": {},
   "source": [
    "DataFrame Manipulation"
   ]
  },
  {
   "cell_type": "code",
   "execution_count": 25,
   "id": "76a1f46c-797a-422f-bb42-5362da1a8feb",
   "metadata": {},
   "outputs": [
    {
     "data": {
      "text/html": [
       "<div>\n",
       "<style scoped>\n",
       "    .dataframe tbody tr th:only-of-type {\n",
       "        vertical-align: middle;\n",
       "    }\n",
       "\n",
       "    .dataframe tbody tr th {\n",
       "        vertical-align: top;\n",
       "    }\n",
       "\n",
       "    .dataframe thead th {\n",
       "        text-align: right;\n",
       "    }\n",
       "</style>\n",
       "<table border=\"1\" class=\"dataframe\">\n",
       "  <thead>\n",
       "    <tr style=\"text-align: right;\">\n",
       "      <th></th>\n",
       "      <th>Test</th>\n",
       "    </tr>\n",
       "  </thead>\n",
       "  <tbody>\n",
       "    <tr>\n",
       "      <th>b</th>\n",
       "      <td>10</td>\n",
       "    </tr>\n",
       "    <tr>\n",
       "      <th>c</th>\n",
       "      <td>15</td>\n",
       "    </tr>\n",
       "  </tbody>\n",
       "</table>\n",
       "</div>"
      ],
      "text/plain": [
       "   Test\n",
       "b    10\n",
       "c    15"
      ]
     },
     "execution_count": 25,
     "metadata": {},
     "output_type": "execute_result"
    }
   ],
   "source": [
    "# Rows and/or columns can be extracted based on particular labels \n",
    "df.loc[['b', 'c']]"
   ]
  },
  {
   "cell_type": "code",
   "execution_count": 26,
   "id": "8c7d223b-fb57-4df9-bf0a-be1b98b6bc99",
   "metadata": {},
   "outputs": [
    {
     "data": {
      "text/plain": [
       "Test    50\n",
       "dtype: int64"
      ]
     },
     "execution_count": 26,
     "metadata": {},
     "output_type": "execute_result"
    }
   ],
   "source": [
    "# Basic Mathematic Functions can be applied\n",
    "df.sum()"
   ]
  },
  {
   "cell_type": "code",
   "execution_count": 27,
   "id": "6a2fed07-0451-4118-87dd-442ca0714d65",
   "metadata": {},
   "outputs": [
    {
     "data": {
      "text/html": [
       "<div>\n",
       "<style scoped>\n",
       "    .dataframe tbody tr th:only-of-type {\n",
       "        vertical-align: middle;\n",
       "    }\n",
       "\n",
       "    .dataframe tbody tr th {\n",
       "        vertical-align: top;\n",
       "    }\n",
       "\n",
       "    .dataframe thead th {\n",
       "        text-align: right;\n",
       "    }\n",
       "</style>\n",
       "<table border=\"1\" class=\"dataframe\">\n",
       "  <thead>\n",
       "    <tr style=\"text-align: right;\">\n",
       "      <th></th>\n",
       "      <th>Test</th>\n",
       "    </tr>\n",
       "  </thead>\n",
       "  <tbody>\n",
       "    <tr>\n",
       "      <th>a</th>\n",
       "      <td>10</td>\n",
       "    </tr>\n",
       "    <tr>\n",
       "      <th>b</th>\n",
       "      <td>20</td>\n",
       "    </tr>\n",
       "    <tr>\n",
       "      <th>c</th>\n",
       "      <td>30</td>\n",
       "    </tr>\n",
       "    <tr>\n",
       "      <th>d</th>\n",
       "      <td>40</td>\n",
       "    </tr>\n",
       "  </tbody>\n",
       "</table>\n",
       "</div>"
      ],
      "text/plain": [
       "   Test\n",
       "a    10\n",
       "b    20\n",
       "c    30\n",
       "d    40"
      ]
     },
     "execution_count": 27,
     "metadata": {},
     "output_type": "execute_result"
    }
   ],
   "source": [
    "# Multiplication\n",
    "df * 2"
   ]
  },
  {
   "cell_type": "code",
   "execution_count": 28,
   "id": "b6982021-59d4-4b80-9b59-0fa64ab08a06",
   "metadata": {},
   "outputs": [
    {
     "data": {
      "text/html": [
       "<div>\n",
       "<style scoped>\n",
       "    .dataframe tbody tr th:only-of-type {\n",
       "        vertical-align: middle;\n",
       "    }\n",
       "\n",
       "    .dataframe tbody tr th {\n",
       "        vertical-align: top;\n",
       "    }\n",
       "\n",
       "    .dataframe thead th {\n",
       "        text-align: right;\n",
       "    }\n",
       "</style>\n",
       "<table border=\"1\" class=\"dataframe\">\n",
       "  <thead>\n",
       "    <tr style=\"text-align: right;\">\n",
       "      <th></th>\n",
       "      <th>Test</th>\n",
       "    </tr>\n",
       "  </thead>\n",
       "  <tbody>\n",
       "    <tr>\n",
       "      <th>a</th>\n",
       "      <td>25</td>\n",
       "    </tr>\n",
       "    <tr>\n",
       "      <th>b</th>\n",
       "      <td>100</td>\n",
       "    </tr>\n",
       "    <tr>\n",
       "      <th>c</th>\n",
       "      <td>225</td>\n",
       "    </tr>\n",
       "    <tr>\n",
       "      <th>d</th>\n",
       "      <td>400</td>\n",
       "    </tr>\n",
       "  </tbody>\n",
       "</table>\n",
       "</div>"
      ],
      "text/plain": [
       "   Test\n",
       "a    25\n",
       "b   100\n",
       "c   225\n",
       "d   400"
      ]
     },
     "execution_count": 28,
     "metadata": {},
     "output_type": "execute_result"
    }
   ],
   "source": [
    "# Power\n",
    "df ** 2"
   ]
  },
  {
   "cell_type": "code",
   "execution_count": 29,
   "id": "bfb5ce70-8dbc-4c44-9e14-e4d000037bc1",
   "metadata": {},
   "outputs": [
    {
     "data": {
      "text/html": [
       "<div>\n",
       "<style scoped>\n",
       "    .dataframe tbody tr th:only-of-type {\n",
       "        vertical-align: middle;\n",
       "    }\n",
       "\n",
       "    .dataframe tbody tr th {\n",
       "        vertical-align: top;\n",
       "    }\n",
       "\n",
       "    .dataframe thead th {\n",
       "        text-align: right;\n",
       "    }\n",
       "</style>\n",
       "<table border=\"1\" class=\"dataframe\">\n",
       "  <thead>\n",
       "    <tr style=\"text-align: right;\">\n",
       "      <th></th>\n",
       "      <th>Test</th>\n",
       "      <th>Days</th>\n",
       "    </tr>\n",
       "  </thead>\n",
       "  <tbody>\n",
       "    <tr>\n",
       "      <th>a</th>\n",
       "      <td>5</td>\n",
       "      <td>Monday</td>\n",
       "    </tr>\n",
       "    <tr>\n",
       "      <th>b</th>\n",
       "      <td>10</td>\n",
       "      <td>Tuesday</td>\n",
       "    </tr>\n",
       "    <tr>\n",
       "      <th>c</th>\n",
       "      <td>15</td>\n",
       "      <td>Wednesday</td>\n",
       "    </tr>\n",
       "    <tr>\n",
       "      <th>d</th>\n",
       "      <td>20</td>\n",
       "      <td>Thursday</td>\n",
       "    </tr>\n",
       "  </tbody>\n",
       "</table>\n",
       "</div>"
      ],
      "text/plain": [
       "   Test       Days\n",
       "a     5     Monday\n",
       "b    10    Tuesday\n",
       "c    15  Wednesday\n",
       "d    20   Thursday"
      ]
     },
     "execution_count": 29,
     "metadata": {},
     "output_type": "execute_result"
    }
   ],
   "source": [
    "# New columns can be defined with ease\n",
    "df['Days'] = pd.DataFrame(['Monday', 'Tuesday', 'Wednesday', 'Thursday'],\n",
    "index=['a', 'b', 'c', 'd'])\n",
    "df"
   ]
  },
  {
   "cell_type": "code",
   "execution_count": 30,
   "id": "4b75674e-10de-4f02-9825-34aa091bed61",
   "metadata": {},
   "outputs": [
    {
     "data": {
      "text/html": [
       "<div>\n",
       "<style scoped>\n",
       "    .dataframe tbody tr th:only-of-type {\n",
       "        vertical-align: middle;\n",
       "    }\n",
       "\n",
       "    .dataframe tbody tr th {\n",
       "        vertical-align: top;\n",
       "    }\n",
       "\n",
       "    .dataframe thead th {\n",
       "        text-align: right;\n",
       "    }\n",
       "</style>\n",
       "<table border=\"1\" class=\"dataframe\">\n",
       "  <thead>\n",
       "    <tr style=\"text-align: right;\">\n",
       "      <th></th>\n",
       "      <th>0</th>\n",
       "      <th>1</th>\n",
       "      <th>2</th>\n",
       "    </tr>\n",
       "  </thead>\n",
       "  <tbody>\n",
       "    <tr>\n",
       "      <th>0</th>\n",
       "      <td>4</td>\n",
       "      <td>8</td>\n",
       "      <td>12</td>\n",
       "    </tr>\n",
       "    <tr>\n",
       "      <th>1</th>\n",
       "      <td>16</td>\n",
       "      <td>20</td>\n",
       "      <td>24</td>\n",
       "    </tr>\n",
       "    <tr>\n",
       "      <th>2</th>\n",
       "      <td>28</td>\n",
       "      <td>32</td>\n",
       "      <td>36</td>\n",
       "    </tr>\n",
       "  </tbody>\n",
       "</table>\n",
       "</div>"
      ],
      "text/plain": [
       "    0   1   2\n",
       "0   4   8  12\n",
       "1  16  20  24\n",
       "2  28  32  36"
      ]
     },
     "execution_count": 30,
     "metadata": {},
     "output_type": "execute_result"
    }
   ],
   "source": [
    "# Numpy Arrays can be converted into DataFrames\n",
    "df2 = pd.DataFrame(f)\n",
    "df2"
   ]
  },
  {
   "cell_type": "code",
   "execution_count": 31,
   "id": "e4d71ed6-dc86-4e48-be37-15fd818ec12b",
   "metadata": {},
   "outputs": [
    {
     "data": {
      "text/html": [
       "<div>\n",
       "<style scoped>\n",
       "    .dataframe tbody tr th:only-of-type {\n",
       "        vertical-align: middle;\n",
       "    }\n",
       "\n",
       "    .dataframe tbody tr th {\n",
       "        vertical-align: top;\n",
       "    }\n",
       "\n",
       "    .dataframe thead th {\n",
       "        text-align: right;\n",
       "    }\n",
       "</style>\n",
       "<table border=\"1\" class=\"dataframe\">\n",
       "  <thead>\n",
       "    <tr style=\"text-align: right;\">\n",
       "      <th></th>\n",
       "      <th>5</th>\n",
       "      <th>6</th>\n",
       "      <th>7</th>\n",
       "    </tr>\n",
       "  </thead>\n",
       "  <tbody>\n",
       "    <tr>\n",
       "      <th>0</th>\n",
       "      <td>4</td>\n",
       "      <td>8</td>\n",
       "      <td>12</td>\n",
       "    </tr>\n",
       "    <tr>\n",
       "      <th>1</th>\n",
       "      <td>16</td>\n",
       "      <td>20</td>\n",
       "      <td>24</td>\n",
       "    </tr>\n",
       "    <tr>\n",
       "      <th>2</th>\n",
       "      <td>28</td>\n",
       "      <td>32</td>\n",
       "      <td>36</td>\n",
       "    </tr>\n",
       "  </tbody>\n",
       "</table>\n",
       "</div>"
      ],
      "text/plain": [
       "    5   6   7\n",
       "0   4   8  12\n",
       "1  16  20  24\n",
       "2  28  32  36"
      ]
     },
     "execution_count": 31,
     "metadata": {},
     "output_type": "execute_result"
    }
   ],
   "source": [
    "# Columns can be renamed\n",
    "df2.columns = ['5', '6', '7',]\n",
    "df2"
   ]
  },
  {
   "cell_type": "markdown",
   "id": "6ca4e410-b449-4e8a-9b57-200b002c341d",
   "metadata": {},
   "source": [
    "Statistical Analysis"
   ]
  },
  {
   "cell_type": "code",
   "execution_count": 33,
   "id": "17798bc4-89b5-4fe5-a53b-7c59fc9fba43",
   "metadata": {},
   "outputs": [
    {
     "data": {
      "text/html": [
       "<div>\n",
       "<style scoped>\n",
       "    .dataframe tbody tr th:only-of-type {\n",
       "        vertical-align: middle;\n",
       "    }\n",
       "\n",
       "    .dataframe tbody tr th {\n",
       "        vertical-align: top;\n",
       "    }\n",
       "\n",
       "    .dataframe thead th {\n",
       "        text-align: right;\n",
       "    }\n",
       "</style>\n",
       "<table border=\"1\" class=\"dataframe\">\n",
       "  <thead>\n",
       "    <tr style=\"text-align: right;\">\n",
       "      <th></th>\n",
       "      <th>5</th>\n",
       "      <th>6</th>\n",
       "      <th>7</th>\n",
       "    </tr>\n",
       "  </thead>\n",
       "  <tbody>\n",
       "    <tr>\n",
       "      <th>count</th>\n",
       "      <td>3.0</td>\n",
       "      <td>3.0</td>\n",
       "      <td>3.0</td>\n",
       "    </tr>\n",
       "    <tr>\n",
       "      <th>mean</th>\n",
       "      <td>16.0</td>\n",
       "      <td>20.0</td>\n",
       "      <td>24.0</td>\n",
       "    </tr>\n",
       "    <tr>\n",
       "      <th>std</th>\n",
       "      <td>12.0</td>\n",
       "      <td>12.0</td>\n",
       "      <td>12.0</td>\n",
       "    </tr>\n",
       "    <tr>\n",
       "      <th>min</th>\n",
       "      <td>4.0</td>\n",
       "      <td>8.0</td>\n",
       "      <td>12.0</td>\n",
       "    </tr>\n",
       "    <tr>\n",
       "      <th>25%</th>\n",
       "      <td>10.0</td>\n",
       "      <td>14.0</td>\n",
       "      <td>18.0</td>\n",
       "    </tr>\n",
       "    <tr>\n",
       "      <th>50%</th>\n",
       "      <td>16.0</td>\n",
       "      <td>20.0</td>\n",
       "      <td>24.0</td>\n",
       "    </tr>\n",
       "    <tr>\n",
       "      <th>75%</th>\n",
       "      <td>22.0</td>\n",
       "      <td>26.0</td>\n",
       "      <td>30.0</td>\n",
       "    </tr>\n",
       "    <tr>\n",
       "      <th>max</th>\n",
       "      <td>28.0</td>\n",
       "      <td>32.0</td>\n",
       "      <td>36.0</td>\n",
       "    </tr>\n",
       "  </tbody>\n",
       "</table>\n",
       "</div>"
      ],
      "text/plain": [
       "          5     6     7\n",
       "count   3.0   3.0   3.0\n",
       "mean   16.0  20.0  24.0\n",
       "std    12.0  12.0  12.0\n",
       "min     4.0   8.0  12.0\n",
       "25%    10.0  14.0  18.0\n",
       "50%    16.0  20.0  24.0\n",
       "75%    22.0  26.0  30.0\n",
       "max    28.0  32.0  36.0"
      ]
     },
     "execution_count": 33,
     "metadata": {},
     "output_type": "execute_result"
    }
   ],
   "source": [
    "#Generate Descriptive Statistics with the describe function\n",
    "df2.describe()"
   ]
  },
  {
   "cell_type": "code",
   "execution_count": 34,
   "id": "eeedf166-f6c2-44b4-aa3f-d8a761d3d7fe",
   "metadata": {},
   "outputs": [
    {
     "data": {
      "text/plain": [
       "5    16.0\n",
       "6    20.0\n",
       "7    24.0\n",
       "dtype: float64"
      ]
     },
     "execution_count": 34,
     "metadata": {},
     "output_type": "execute_result"
    }
   ],
   "source": [
    "# Mean\n",
    "df2.mean()"
   ]
  },
  {
   "cell_type": "code",
   "execution_count": 35,
   "id": "7e003fa5-4b4c-47cf-a090-fa976305cf93",
   "metadata": {},
   "outputs": [
    {
     "data": {
      "text/html": [
       "<div>\n",
       "<style scoped>\n",
       "    .dataframe tbody tr th:only-of-type {\n",
       "        vertical-align: middle;\n",
       "    }\n",
       "\n",
       "    .dataframe tbody tr th {\n",
       "        vertical-align: top;\n",
       "    }\n",
       "\n",
       "    .dataframe thead th {\n",
       "        text-align: right;\n",
       "    }\n",
       "</style>\n",
       "<table border=\"1\" class=\"dataframe\">\n",
       "  <thead>\n",
       "    <tr style=\"text-align: right;\">\n",
       "      <th></th>\n",
       "      <th>5</th>\n",
       "      <th>6</th>\n",
       "      <th>7</th>\n",
       "    </tr>\n",
       "  </thead>\n",
       "  <tbody>\n",
       "    <tr>\n",
       "      <th>0</th>\n",
       "      <td>1.386294</td>\n",
       "      <td>2.079442</td>\n",
       "      <td>2.484907</td>\n",
       "    </tr>\n",
       "    <tr>\n",
       "      <th>1</th>\n",
       "      <td>2.772589</td>\n",
       "      <td>2.995732</td>\n",
       "      <td>3.178054</td>\n",
       "    </tr>\n",
       "    <tr>\n",
       "      <th>2</th>\n",
       "      <td>3.332205</td>\n",
       "      <td>3.465736</td>\n",
       "      <td>3.583519</td>\n",
       "    </tr>\n",
       "  </tbody>\n",
       "</table>\n",
       "</div>"
      ],
      "text/plain": [
       "          5         6         7\n",
       "0  1.386294  2.079442  2.484907\n",
       "1  2.772589  2.995732  3.178054\n",
       "2  3.332205  3.465736  3.583519"
      ]
     },
     "execution_count": 35,
     "metadata": {},
     "output_type": "execute_result"
    }
   ],
   "source": [
    "# Log\n",
    "np.log(df2)"
   ]
  },
  {
   "cell_type": "code",
   "execution_count": 36,
   "id": "0519f418-1008-44ed-8510-986a0f256e64",
   "metadata": {},
   "outputs": [
    {
     "data": {
      "text/plain": [
       "DatetimeIndex(['2005-02-28', '2005-03-31', '2005-04-30'], dtype='datetime64[ns]', freq='ME')"
      ]
     },
     "execution_count": 36,
     "metadata": {},
     "output_type": "execute_result"
    }
   ],
   "source": [
    "# Pandas can also add dates\n",
    "dates = pd.date_range('2005-2-3', periods=3, freq='ME')\n",
    "dates"
   ]
  },
  {
   "cell_type": "code",
   "execution_count": 37,
   "id": "2098cee4-447c-473d-ab0a-9d9011211f90",
   "metadata": {},
   "outputs": [
    {
     "data": {
      "text/html": [
       "<div>\n",
       "<style scoped>\n",
       "    .dataframe tbody tr th:only-of-type {\n",
       "        vertical-align: middle;\n",
       "    }\n",
       "\n",
       "    .dataframe tbody tr th {\n",
       "        vertical-align: top;\n",
       "    }\n",
       "\n",
       "    .dataframe thead th {\n",
       "        text-align: right;\n",
       "    }\n",
       "</style>\n",
       "<table border=\"1\" class=\"dataframe\">\n",
       "  <thead>\n",
       "    <tr style=\"text-align: right;\">\n",
       "      <th></th>\n",
       "      <th>5</th>\n",
       "      <th>6</th>\n",
       "      <th>7</th>\n",
       "    </tr>\n",
       "  </thead>\n",
       "  <tbody>\n",
       "    <tr>\n",
       "      <th>2005-02-28</th>\n",
       "      <td>4</td>\n",
       "      <td>8</td>\n",
       "      <td>12</td>\n",
       "    </tr>\n",
       "    <tr>\n",
       "      <th>2005-03-31</th>\n",
       "      <td>16</td>\n",
       "      <td>20</td>\n",
       "      <td>24</td>\n",
       "    </tr>\n",
       "    <tr>\n",
       "      <th>2005-04-30</th>\n",
       "      <td>28</td>\n",
       "      <td>32</td>\n",
       "      <td>36</td>\n",
       "    </tr>\n",
       "  </tbody>\n",
       "</table>\n",
       "</div>"
      ],
      "text/plain": [
       "             5   6   7\n",
       "2005-02-28   4   8  12\n",
       "2005-03-31  16  20  24\n",
       "2005-04-30  28  32  36"
      ]
     },
     "execution_count": 37,
     "metadata": {},
     "output_type": "execute_result"
    }
   ],
   "source": [
    "df2.index = dates\n",
    "df2"
   ]
  },
  {
   "cell_type": "markdown",
   "id": "c9e8ba1c-f263-4437-9fce-e5b909218524",
   "metadata": {},
   "source": [
    "Matplotlib"
   ]
  },
  {
   "cell_type": "code",
   "execution_count": 39,
   "id": "7da23d82-a522-4a03-a347-66853c99fe03",
   "metadata": {},
   "outputs": [],
   "source": [
    "# Import as plt for ease of use\n",
    "import matplotlib as mpl\n",
    "import matplotlib.pyplot as plt"
   ]
  },
  {
   "cell_type": "code",
   "execution_count": 40,
   "id": "d42de2ce-dd51-43b4-91e8-23912fda4ee4",
   "metadata": {},
   "outputs": [],
   "source": [
    "# Choose your plot style and Font Style\n",
    "plt.style.use('ggplot')\n",
    "mpl.rcParams['font.sans-serif'] = ['Tahoma']\n",
    "%matplotlib inline "
   ]
  },
  {
   "cell_type": "code",
   "execution_count": 41,
   "id": "c3c2e884-2c99-409e-bdf3-b0ab2670c296",
   "metadata": {},
   "outputs": [
    {
     "data": {
      "text/plain": [
       "[<matplotlib.lines.Line2D at 0x1fea105d610>]"
      ]
     },
     "execution_count": 41,
     "metadata": {},
     "output_type": "execute_result"
    },
    {
     "data": {
      "image/png": "[encoded data removed]",
      "text/plain": [
       "<Figure size 640x480 with 1 Axes>"
      ]
     },
     "metadata": {},
     "output_type": "display_data"
    }
   ],
   "source": [
    "# Plot your X and Y Axis (in this example, random values have been generated with Numpy\n",
    "import numpy as np\n",
    "np.random.seed(2000)\n",
    "y = np.random.standard_normal(40)\n",
    "x = np.arange(len(y))\n",
    "plt.plot(x, y)"
   ]
  },
  {
   "cell_type": "code",
   "execution_count": 42,
   "id": "9321e528-016e-4def-bd81-8455e4c6614b",
   "metadata": {},
   "outputs": [
    {
     "data": {
      "image/png": "[encoded data removed]",
      "text/plain": [
       "<Figure size 200x200 with 1 Axes>"
      ]
     },
     "metadata": {},
     "output_type": "display_data"
    }
   ],
   "source": [
    "#An example of Plotting a 3D Bar Chart\n",
    "plt.style.use('_mpl-gallery')\n",
    "\n",
    "# Make data\n",
    "x = [2, 2, 3, 3]\n",
    "y = [2, 3, 2, 3]\n",
    "z = [0, 0, 0, 0]\n",
    "dx = np.ones_like(x)*0.5\n",
    "dy = np.ones_like(x)*0.5\n",
    "dz = [3, 4, 2, 5]\n",
    "\n",
    "# Plot\n",
    "fig, ax = plt.subplots(subplot_kw={\"projection\": \"3d\"})\n",
    "ax.bar3d(x, y, z, dx, dy, dz)\n",
    "\n",
    "ax.set(xticklabels=[],\n",
    "       yticklabels=[],\n",
    "       zticklabels=[])\n",
    "\n",
    "plt.show()"
   ]
  },
  {
   "cell_type": "markdown",
   "id": "347d0a27-7427-4dfc-b0ad-7fae59a3acac",
   "metadata": {},
   "source": [
    "FTSE 100"
   ]
  },
  {
   "cell_type": "code",
   "execution_count": 44,
   "id": "13901611-bfc9-44e8-b01f-16ba0207d4bd",
   "metadata": {},
   "outputs": [],
   "source": [
    "# Import as yf for ease of use\n",
    "import yfinance as yf"
   ]
  },
  {
   "cell_type": "code",
   "execution_count": 45,
   "id": "f10be3c6-7134-4999-8b96-75ff6a8fad63",
   "metadata": {},
   "outputs": [
    {
     "name": "stderr",
     "output_type": "stream",
     "text": [
      "[*********************100%***********************]  2 of 2 completed\n"
     ]
    }
   ],
   "source": [
    "# Download the data for BAE and EasyJet\n",
    "data = yf.download(\"BA.L EZJ.L\", start=\"2022-11-01\", end=\"2024-11-01\")"
   ]
  },
  {
   "cell_type": "code",
   "execution_count": 46,
   "id": "4cad8274-5874-422e-84ab-3954bc753255",
   "metadata": {},
   "outputs": [
    {
     "data": {
      "text/html": [
       "<div>\n",
       "<style scoped>\n",
       "    .dataframe tbody tr th:only-of-type {\n",
       "        vertical-align: middle;\n",
       "    }\n",
       "\n",
       "    .dataframe tbody tr th {\n",
       "        vertical-align: top;\n",
       "    }\n",
       "\n",
       "    .dataframe thead tr th {\n",
       "        text-align: left;\n",
       "    }\n",
       "\n",
       "    .dataframe thead tr:last-of-type th {\n",
       "        text-align: right;\n",
       "    }\n",
       "</style>\n",
       "<table border=\"1\" class=\"dataframe\">\n",
       "  <thead>\n",
       "    <tr>\n",
       "      <th>Price</th>\n",
       "      <th colspan=\"2\" halign=\"left\">Adj Close</th>\n",
       "      <th colspan=\"2\" halign=\"left\">Close</th>\n",
       "      <th colspan=\"2\" halign=\"left\">High</th>\n",
       "      <th colspan=\"2\" halign=\"left\">Low</th>\n",
       "      <th colspan=\"2\" halign=\"left\">Open</th>\n",
       "      <th colspan=\"2\" halign=\"left\">Volume</th>\n",
       "    </tr>\n",
       "    <tr>\n",
       "      <th>Ticker</th>\n",
       "      <th>BA.L</th>\n",
       "      <th>EZJ.L</th>\n",
       "      <th>BA.L</th>\n",
       "      <th>EZJ.L</th>\n",
       "      <th>BA.L</th>\n",
       "      <th>EZJ.L</th>\n",
       "      <th>BA.L</th>\n",
       "      <th>EZJ.L</th>\n",
       "      <th>BA.L</th>\n",
       "      <th>EZJ.L</th>\n",
       "      <th>BA.L</th>\n",
       "      <th>EZJ.L</th>\n",
       "    </tr>\n",
       "    <tr>\n",
       "      <th>Date</th>\n",
       "      <th></th>\n",
       "      <th></th>\n",
       "      <th></th>\n",
       "      <th></th>\n",
       "      <th></th>\n",
       "      <th></th>\n",
       "      <th></th>\n",
       "      <th></th>\n",
       "      <th></th>\n",
       "      <th></th>\n",
       "      <th></th>\n",
       "      <th></th>\n",
       "    </tr>\n",
       "  </thead>\n",
       "  <tbody>\n",
       "    <tr>\n",
       "      <th>2022-11-01 00:00:00+00:00</th>\n",
       "      <td>780.016968</td>\n",
       "      <td>351.136963</td>\n",
       "      <td>820.599976</td>\n",
       "      <td>354.000000</td>\n",
       "      <td>821.799988</td>\n",
       "      <td>360.299988</td>\n",
       "      <td>810.200012</td>\n",
       "      <td>349.200012</td>\n",
       "      <td>817.599976</td>\n",
       "      <td>354.799988</td>\n",
       "      <td>5507238</td>\n",
       "      <td>3693845</td>\n",
       "    </tr>\n",
       "    <tr>\n",
       "      <th>2022-11-02 00:00:00+00:00</th>\n",
       "      <td>778.496155</td>\n",
       "      <td>340.126709</td>\n",
       "      <td>819.000000</td>\n",
       "      <td>342.899994</td>\n",
       "      <td>821.200012</td>\n",
       "      <td>354.140015</td>\n",
       "      <td>814.599976</td>\n",
       "      <td>332.815002</td>\n",
       "      <td>820.599976</td>\n",
       "      <td>352.399994</td>\n",
       "      <td>4702898</td>\n",
       "      <td>3459172</td>\n",
       "    </tr>\n",
       "    <tr>\n",
       "      <th>2022-11-03 00:00:00+00:00</th>\n",
       "      <td>782.678528</td>\n",
       "      <td>344.590332</td>\n",
       "      <td>823.400024</td>\n",
       "      <td>347.399994</td>\n",
       "      <td>826.799988</td>\n",
       "      <td>348.200012</td>\n",
       "      <td>813.250977</td>\n",
       "      <td>333.395996</td>\n",
       "      <td>818.599976</td>\n",
       "      <td>338.000000</td>\n",
       "      <td>5546428</td>\n",
       "      <td>1830921</td>\n",
       "    </tr>\n",
       "    <tr>\n",
       "      <th>2022-11-04 00:00:00+00:00</th>\n",
       "      <td>759.295105</td>\n",
       "      <td>353.120789</td>\n",
       "      <td>798.799988</td>\n",
       "      <td>356.000000</td>\n",
       "      <td>820.400024</td>\n",
       "      <td>356.960999</td>\n",
       "      <td>798.593994</td>\n",
       "      <td>344.100006</td>\n",
       "      <td>820.000000</td>\n",
       "      <td>348.299988</td>\n",
       "      <td>5697732</td>\n",
       "      <td>2715159</td>\n",
       "    </tr>\n",
       "    <tr>\n",
       "      <th>2022-11-07 00:00:00+00:00</th>\n",
       "      <td>749.599487</td>\n",
       "      <td>363.238312</td>\n",
       "      <td>788.599976</td>\n",
       "      <td>366.200012</td>\n",
       "      <td>801.599976</td>\n",
       "      <td>373.600006</td>\n",
       "      <td>785.000000</td>\n",
       "      <td>350.899994</td>\n",
       "      <td>801.200012</td>\n",
       "      <td>354.299988</td>\n",
       "      <td>6040315</td>\n",
       "      <td>6238405</td>\n",
       "    </tr>\n",
       "  </tbody>\n",
       "</table>\n",
       "</div>"
      ],
      "text/plain": [
       "Price                       Adj Close                   Close              \\\n",
       "Ticker                           BA.L       EZJ.L        BA.L       EZJ.L   \n",
       "Date                                                                        \n",
       "2022-11-01 00:00:00+00:00  780.016968  351.136963  820.599976  354.000000   \n",
       "2022-11-02 00:00:00+00:00  778.496155  340.126709  819.000000  342.899994   \n",
       "2022-11-03 00:00:00+00:00  782.678528  344.590332  823.400024  347.399994   \n",
       "2022-11-04 00:00:00+00:00  759.295105  353.120789  798.799988  356.000000   \n",
       "2022-11-07 00:00:00+00:00  749.599487  363.238312  788.599976  366.200012   \n",
       "\n",
       "Price                            High                     Low              \\\n",
       "Ticker                           BA.L       EZJ.L        BA.L       EZJ.L   \n",
       "Date                                                                        \n",
       "2022-11-01 00:00:00+00:00  821.799988  360.299988  810.200012  349.200012   \n",
       "2022-11-02 00:00:00+00:00  821.200012  354.140015  814.599976  332.815002   \n",
       "2022-11-03 00:00:00+00:00  826.799988  348.200012  813.250977  333.395996   \n",
       "2022-11-04 00:00:00+00:00  820.400024  356.960999  798.593994  344.100006   \n",
       "2022-11-07 00:00:00+00:00  801.599976  373.600006  785.000000  350.899994   \n",
       "\n",
       "Price                            Open               Volume           \n",
       "Ticker                           BA.L       EZJ.L     BA.L    EZJ.L  \n",
       "Date                                                                 \n",
       "2022-11-01 00:00:00+00:00  817.599976  354.799988  5507238  3693845  \n",
       "2022-11-02 00:00:00+00:00  820.599976  352.399994  4702898  3459172  \n",
       "2022-11-03 00:00:00+00:00  818.599976  338.000000  5546428  1830921  \n",
       "2022-11-04 00:00:00+00:00  820.000000  348.299988  5697732  2715159  \n",
       "2022-11-07 00:00:00+00:00  801.200012  354.299988  6040315  6238405  "
      ]
     },
     "execution_count": 46,
     "metadata": {},
     "output_type": "execute_result"
    }
   ],
   "source": [
    "data.head()"
   ]
  },
  {
   "cell_type": "code",
   "execution_count": 47,
   "id": "6b5bb52d-ad3c-47ee-a252-6d83781fe59f",
   "metadata": {},
   "outputs": [
    {
     "name": "stdout",
     "output_type": "stream",
     "text": [
      "<class 'pandas.core.frame.DataFrame'>\n",
      "DatetimeIndex: 506 entries, 2022-11-01 00:00:00+00:00 to 2024-10-31 00:00:00+00:00\n",
      "Data columns (total 2 columns):\n",
      " #   Column  Non-Null Count  Dtype  \n",
      "---  ------  --------------  -----  \n",
      " 0   BA.L    506 non-null    float64\n",
      " 1   EZJ.L   506 non-null    float64\n",
      "dtypes: float64(2)\n",
      "memory usage: 11.9 KB\n"
     ]
    }
   ],
   "source": [
    "ADJ =  data['Adj Close']\n",
    "ADJ.info()"
   ]
  },
  {
   "cell_type": "code",
   "execution_count": 48,
   "id": "ce56ea1d-07b2-440a-8a16-c14ba24bbfaa",
   "metadata": {},
   "outputs": [
    {
     "data": {
      "text/plain": [
       "array([<Axes: xlabel='Date'>, <Axes: xlabel='Date'>], dtype=object)"
      ]
     },
     "execution_count": 48,
     "metadata": {},
     "output_type": "execute_result"
    },
    {
     "data": {
      "image/png": "[encoded data removed]",
      "text/plain": [
       "<Figure size 1000x1200 with 2 Axes>"
      ]
     },
     "metadata": {},
     "output_type": "display_data"
    }
   ],
   "source": [
    "ADJ.plot(figsize=(10, 12), subplots=True)"
   ]
  },
  {
   "cell_type": "markdown",
   "id": "6a7af149-5611-46fe-ae71-cdd37794ee2e",
   "metadata": {},
   "source": [
    "Log Returns"
   ]
  },
  {
   "cell_type": "code",
   "execution_count": 50,
   "id": "1910d983-7f80-4ad6-ac5b-1da636dcd55d",
   "metadata": {},
   "outputs": [
    {
     "data": {
      "text/html": [
       "<div>\n",
       "<style scoped>\n",
       "    .dataframe tbody tr th:only-of-type {\n",
       "        vertical-align: middle;\n",
       "    }\n",
       "\n",
       "    .dataframe tbody tr th {\n",
       "        vertical-align: top;\n",
       "    }\n",
       "\n",
       "    .dataframe thead th {\n",
       "        text-align: right;\n",
       "    }\n",
       "</style>\n",
       "<table border=\"1\" class=\"dataframe\">\n",
       "  <thead>\n",
       "    <tr style=\"text-align: right;\">\n",
       "      <th>Ticker</th>\n",
       "      <th>BA.L</th>\n",
       "      <th>EZJ.L</th>\n",
       "    </tr>\n",
       "    <tr>\n",
       "      <th>Date</th>\n",
       "      <th></th>\n",
       "      <th></th>\n",
       "    </tr>\n",
       "  </thead>\n",
       "  <tbody>\n",
       "    <tr>\n",
       "      <th>2022-11-01 00:00:00+00:00</th>\n",
       "      <td>NaN</td>\n",
       "      <td>NaN</td>\n",
       "    </tr>\n",
       "    <tr>\n",
       "      <th>2022-11-02 00:00:00+00:00</th>\n",
       "      <td>-0.0020</td>\n",
       "      <td>-0.0319</td>\n",
       "    </tr>\n",
       "    <tr>\n",
       "      <th>2022-11-03 00:00:00+00:00</th>\n",
       "      <td>0.0054</td>\n",
       "      <td>0.0130</td>\n",
       "    </tr>\n",
       "    <tr>\n",
       "      <th>2022-11-04 00:00:00+00:00</th>\n",
       "      <td>-0.0303</td>\n",
       "      <td>0.0245</td>\n",
       "    </tr>\n",
       "    <tr>\n",
       "      <th>2022-11-07 00:00:00+00:00</th>\n",
       "      <td>-0.0129</td>\n",
       "      <td>0.0282</td>\n",
       "    </tr>\n",
       "  </tbody>\n",
       "</table>\n",
       "</div>"
      ],
      "text/plain": [
       "Ticker                       BA.L   EZJ.L\n",
       "Date                                     \n",
       "2022-11-01 00:00:00+00:00     NaN     NaN\n",
       "2022-11-02 00:00:00+00:00 -0.0020 -0.0319\n",
       "2022-11-03 00:00:00+00:00  0.0054  0.0130\n",
       "2022-11-04 00:00:00+00:00 -0.0303  0.0245\n",
       "2022-11-07 00:00:00+00:00 -0.0129  0.0282"
      ]
     },
     "execution_count": 50,
     "metadata": {},
     "output_type": "execute_result"
    }
   ],
   "source": [
    "log_returns = np.log(ADJ / ADJ.shift(1))\n",
    "log_returns.head().round(4)"
   ]
  },
  {
   "cell_type": "markdown",
   "id": "06b8d581-b8b9-465c-8811-26df36191b84",
   "metadata": {},
   "source": [
    "Plotting the cumsum of log returns to visually compare performance of equities"
   ]
  },
  {
   "cell_type": "code",
   "execution_count": 52,
   "id": "ca6ae268-527b-4c2f-84ad-5bdd3ff015e4",
   "metadata": {},
   "outputs": [
    {
     "data": {
      "image/png": "[encoded data removed]",
      "text/plain": [
       "<Figure size 1000x600 with 1 Axes>"
      ]
     },
     "metadata": {},
     "output_type": "display_data"
    }
   ],
   "source": [
    "log_returns.cumsum().apply(np.exp).plot(figsize=(10, 6));"
   ]
  },
  {
   "cell_type": "markdown",
   "id": "1d90e7cf-2619-4535-9507-ea2ca4804c59",
   "metadata": {},
   "source": [
    "Annualised Average Returns"
   ]
  },
  {
   "cell_type": "code",
   "execution_count": 54,
   "id": "bb788a51-a54d-4527-81f7-6a21f80a35ea",
   "metadata": {},
   "outputs": [],
   "source": [
    "# Calculate Annualised Average Returns with mean and multiply by 252 (roughly 252 trading days for the stock market)\n",
    "annualised_average_returns = log_returns.mean() * 252"
   ]
  },
  {
   "cell_type": "code",
   "execution_count": 55,
   "id": "d4f7ba79-73ba-463b-a4bf-617f73e3563d",
   "metadata": {},
   "outputs": [
    {
     "data": {
      "text/plain": [
       "Ticker\n",
       "BA.L     0.235325\n",
       "EZJ.L    0.187030\n",
       "dtype: float64"
      ]
     },
     "execution_count": 55,
     "metadata": {},
     "output_type": "execute_result"
    }
   ],
   "source": [
    "annualised_average_returns"
   ]
  },
  {
   "cell_type": "markdown",
   "id": "9757d768-28a8-4d20-9677-3f453e37f82c",
   "metadata": {},
   "source": [
    "Annualised Standard Deviations"
   ]
  },
  {
   "cell_type": "code",
   "execution_count": 57,
   "id": "9df90cca-4aeb-4d8f-a197-449190516ea3",
   "metadata": {},
   "outputs": [],
   "source": [
    "# Calculate Daily Volatility\n",
    "daily_volatility = log_returns.std()"
   ]
  },
  {
   "cell_type": "code",
   "execution_count": 58,
   "id": "a389a029-df51-4c9b-a67f-56a0da61a537",
   "metadata": {},
   "outputs": [],
   "source": [
    "# Calculate Annualized daily volatility\n",
    "annualised_volatility = daily_volatility * np.sqrt(252)"
   ]
  },
  {
   "cell_type": "code",
   "execution_count": 59,
   "id": "df28441f-27d4-4eca-a329-05723f3cfdb2",
   "metadata": {},
   "outputs": [
    {
     "data": {
      "text/plain": [
       "Ticker\n",
       "BA.L     0.207029\n",
       "EZJ.L    0.348927\n",
       "dtype: float64"
      ]
     },
     "execution_count": 59,
     "metadata": {},
     "output_type": "execute_result"
    }
   ],
   "source": [
    "annualised_volatility"
   ]
  }
 ],
 "metadata": {
  "kernelspec": {
   "display_name": "Python 3 (ipykernel)",
   "language": "python",
   "name": "python3"
  },
  "language_info": {
   "codemirror_mode": {
    "name": "ipython",
    "version": 3
   },
   "file_extension": ".py",
   "mimetype": "text/x-python",
   "name": "python",
   "nbconvert_exporter": "python",
   "pygments_lexer": "ipython3",
   "version": "3.12.4"
  }
 },
 "nbformat": 4,
 "nbformat_minor": 5
}
